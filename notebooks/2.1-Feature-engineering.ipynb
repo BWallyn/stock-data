{
 "cells": [
  {
   "cell_type": "markdown",
   "id": "b646c258",
   "metadata": {},
   "source": [
    "# Feature engineering"
   ]
  },
  {
   "cell_type": "markdown",
   "id": "d74cae8e",
   "metadata": {},
   "source": [
    "# 1. Imports"
   ]
  },
  {
   "cell_type": "markdown",
   "id": "931882e1",
   "metadata": {},
   "source": [
    "## 1.1 Packages"
   ]
  },
  {
   "cell_type": "code",
   "execution_count": 1,
   "id": "19391f83",
   "metadata": {},
   "outputs": [],
   "source": [
    "import os\n",
    "import pandas as pd"
   ]
  },
  {
   "cell_type": "code",
   "execution_count": 2,
   "id": "2895b9f1",
   "metadata": {},
   "outputs": [],
   "source": [
    "from stock_data.pipelines.feature_engineering.nodes import add_test_indicator"
   ]
  },
  {
   "cell_type": "markdown",
   "id": "5e72c47b",
   "metadata": {},
   "source": [
    "## 1.2 Options"
   ]
  },
  {
   "cell_type": "code",
   "execution_count": 3,
   "id": "5122d9dc",
   "metadata": {},
   "outputs": [],
   "source": [
    "path_data = \"../data/01_raw/\""
   ]
  },
  {
   "cell_type": "markdown",
   "id": "4d493629",
   "metadata": {},
   "source": [
    "## 1.3 Dataset"
   ]
  },
  {
   "cell_type": "code",
   "execution_count": 4,
   "id": "cbfff909",
   "metadata": {},
   "outputs": [],
   "source": [
    "df_aapl = pd.read_parquet(os.path.join(path_data, \"stock_data_aapl.parquet\"))"
   ]
  },
  {
   "cell_type": "markdown",
   "id": "df953d24",
   "metadata": {},
   "source": [
    "# 2. Feature engineering"
   ]
  },
  {
   "cell_type": "code",
   "execution_count": 5,
   "id": "087dfe56",
   "metadata": {},
   "outputs": [
    {
     "data": {
      "text/html": [
       "<div>\n",
       "<style scoped>\n",
       "    .dataframe tbody tr th:only-of-type {\n",
       "        vertical-align: middle;\n",
       "    }\n",
       "\n",
       "    .dataframe tbody tr th {\n",
       "        vertical-align: top;\n",
       "    }\n",
       "\n",
       "    .dataframe thead tr th {\n",
       "        text-align: left;\n",
       "    }\n",
       "</style>\n",
       "<table border=\"1\" class=\"dataframe\">\n",
       "  <thead>\n",
       "    <tr>\n",
       "      <th>Price</th>\n",
       "      <th>Date</th>\n",
       "      <th>Close</th>\n",
       "      <th>High</th>\n",
       "      <th>Low</th>\n",
       "      <th>Open</th>\n",
       "      <th>Volume</th>\n",
       "    </tr>\n",
       "    <tr>\n",
       "      <th>Ticker</th>\n",
       "      <th></th>\n",
       "      <th>AAPL</th>\n",
       "      <th>AAPL</th>\n",
       "      <th>AAPL</th>\n",
       "      <th>AAPL</th>\n",
       "      <th>AAPL</th>\n",
       "    </tr>\n",
       "  </thead>\n",
       "  <tbody>\n",
       "    <tr>\n",
       "      <th>0</th>\n",
       "      <td>2020-01-02</td>\n",
       "      <td>72.716072</td>\n",
       "      <td>72.776598</td>\n",
       "      <td>71.466812</td>\n",
       "      <td>71.721019</td>\n",
       "      <td>135480400</td>\n",
       "    </tr>\n",
       "    <tr>\n",
       "      <th>1</th>\n",
       "      <td>2020-01-03</td>\n",
       "      <td>72.009132</td>\n",
       "      <td>72.771760</td>\n",
       "      <td>71.783977</td>\n",
       "      <td>71.941343</td>\n",
       "      <td>146322800</td>\n",
       "    </tr>\n",
       "    <tr>\n",
       "      <th>2</th>\n",
       "      <td>2020-01-06</td>\n",
       "      <td>72.582909</td>\n",
       "      <td>72.621646</td>\n",
       "      <td>70.876075</td>\n",
       "      <td>71.127866</td>\n",
       "      <td>118387200</td>\n",
       "    </tr>\n",
       "    <tr>\n",
       "      <th>3</th>\n",
       "      <td>2020-01-07</td>\n",
       "      <td>72.241554</td>\n",
       "      <td>72.849231</td>\n",
       "      <td>72.021238</td>\n",
       "      <td>72.592601</td>\n",
       "      <td>108872000</td>\n",
       "    </tr>\n",
       "    <tr>\n",
       "      <th>4</th>\n",
       "      <td>2020-01-08</td>\n",
       "      <td>73.403633</td>\n",
       "      <td>73.706264</td>\n",
       "      <td>71.943744</td>\n",
       "      <td>71.943744</td>\n",
       "      <td>132079200</td>\n",
       "    </tr>\n",
       "    <tr>\n",
       "      <th>...</th>\n",
       "      <td>...</td>\n",
       "      <td>...</td>\n",
       "      <td>...</td>\n",
       "      <td>...</td>\n",
       "      <td>...</td>\n",
       "      <td>...</td>\n",
       "    </tr>\n",
       "    <tr>\n",
       "      <th>1312</th>\n",
       "      <td>2025-03-24</td>\n",
       "      <td>220.729996</td>\n",
       "      <td>221.479996</td>\n",
       "      <td>218.580002</td>\n",
       "      <td>221.000000</td>\n",
       "      <td>44299500</td>\n",
       "    </tr>\n",
       "    <tr>\n",
       "      <th>1313</th>\n",
       "      <td>2025-03-25</td>\n",
       "      <td>223.750000</td>\n",
       "      <td>224.100006</td>\n",
       "      <td>220.080002</td>\n",
       "      <td>220.770004</td>\n",
       "      <td>34493600</td>\n",
       "    </tr>\n",
       "    <tr>\n",
       "      <th>1314</th>\n",
       "      <td>2025-03-26</td>\n",
       "      <td>221.529999</td>\n",
       "      <td>225.020004</td>\n",
       "      <td>220.470001</td>\n",
       "      <td>223.509995</td>\n",
       "      <td>34466100</td>\n",
       "    </tr>\n",
       "    <tr>\n",
       "      <th>1315</th>\n",
       "      <td>2025-03-27</td>\n",
       "      <td>223.850006</td>\n",
       "      <td>224.990005</td>\n",
       "      <td>220.559998</td>\n",
       "      <td>221.389999</td>\n",
       "      <td>37094800</td>\n",
       "    </tr>\n",
       "    <tr>\n",
       "      <th>1316</th>\n",
       "      <td>2025-03-28</td>\n",
       "      <td>217.899994</td>\n",
       "      <td>223.809998</td>\n",
       "      <td>217.679993</td>\n",
       "      <td>221.669998</td>\n",
       "      <td>39818600</td>\n",
       "    </tr>\n",
       "  </tbody>\n",
       "</table>\n",
       "<p>1317 rows × 6 columns</p>\n",
       "</div>"
      ],
      "text/plain": [
       "Price        Date       Close        High         Low        Open     Volume\n",
       "Ticker                   AAPL        AAPL        AAPL        AAPL       AAPL\n",
       "0      2020-01-02   72.716072   72.776598   71.466812   71.721019  135480400\n",
       "1      2020-01-03   72.009132   72.771760   71.783977   71.941343  146322800\n",
       "2      2020-01-06   72.582909   72.621646   70.876075   71.127866  118387200\n",
       "3      2020-01-07   72.241554   72.849231   72.021238   72.592601  108872000\n",
       "4      2020-01-08   73.403633   73.706264   71.943744   71.943744  132079200\n",
       "...           ...         ...         ...         ...         ...        ...\n",
       "1312   2025-03-24  220.729996  221.479996  218.580002  221.000000   44299500\n",
       "1313   2025-03-25  223.750000  224.100006  220.080002  220.770004   34493600\n",
       "1314   2025-03-26  221.529999  225.020004  220.470001  223.509995   34466100\n",
       "1315   2025-03-27  223.850006  224.990005  220.559998  221.389999   37094800\n",
       "1316   2025-03-28  217.899994  223.809998  217.679993  221.669998   39818600\n",
       "\n",
       "[1317 rows x 6 columns]"
      ]
     },
     "execution_count": 5,
     "metadata": {},
     "output_type": "execute_result"
    }
   ],
   "source": [
    "df_aapl"
   ]
  },
  {
   "cell_type": "code",
   "execution_count": 6,
   "id": "c6895fd5",
   "metadata": {},
   "outputs": [],
   "source": [
    "df_aapl_prep = add_test_indicator(df_aapl, n_days=7)"
   ]
  },
  {
   "cell_type": "code",
   "execution_count": null,
   "id": "5737b922",
   "metadata": {},
   "outputs": [],
   "source": []
  },
  {
   "cell_type": "code",
   "execution_count": null,
   "id": "af18314a",
   "metadata": {},
   "outputs": [],
   "source": []
  }
 ],
 "metadata": {
  "kernelspec": {
   "display_name": ".venv",
   "language": "python",
   "name": "python3"
  },
  "language_info": {
   "codemirror_mode": {
    "name": "ipython",
    "version": 3
   },
   "file_extension": ".py",
   "mimetype": "text/x-python",
   "name": "python",
   "nbconvert_exporter": "python",
   "pygments_lexer": "ipython3",
   "version": "3.13.2"
  }
 },
 "nbformat": 4,
 "nbformat_minor": 5
}
