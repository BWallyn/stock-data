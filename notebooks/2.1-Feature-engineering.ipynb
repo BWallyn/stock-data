{
 "cells": [
  {
   "cell_type": "markdown",
   "id": "b646c258",
   "metadata": {},
   "source": [
    "# Feature engineering"
   ]
  },
  {
   "cell_type": "markdown",
   "id": "d74cae8e",
   "metadata": {},
   "source": [
    "# 1. Imports"
   ]
  },
  {
   "cell_type": "markdown",
   "id": "931882e1",
   "metadata": {},
   "source": [
    "## 1.1 Packages"
   ]
  },
  {
   "cell_type": "code",
   "execution_count": 3,
   "id": "19391f83",
   "metadata": {},
   "outputs": [],
   "source": [
    "import os\n",
    "import pandas as pd"
   ]
  },
  {
   "cell_type": "code",
   "execution_count": 4,
   "id": "2895b9f1",
   "metadata": {},
   "outputs": [],
   "source": [
    "from stock_data.pipelines.feature_engineering.nodes import add_test_indicator"
   ]
  },
  {
   "cell_type": "markdown",
   "id": "5e72c47b",
   "metadata": {},
   "source": [
    "## 1.2 Options"
   ]
  },
  {
   "cell_type": "code",
   "execution_count": 5,
   "id": "5122d9dc",
   "metadata": {},
   "outputs": [],
   "source": [
    "path_data = \"../data/01_raw/\""
   ]
  },
  {
   "cell_type": "markdown",
   "id": "4d493629",
   "metadata": {},
   "source": [
    "## 1.3 Dataset"
   ]
  },
  {
   "cell_type": "code",
   "execution_count": 6,
   "id": "cbfff909",
   "metadata": {},
   "outputs": [],
   "source": [
    "df_aapl = pd.read_parquet(os.path.join(path_data, \"stock_data_aapl.parquet\"))"
   ]
  },
  {
   "cell_type": "markdown",
   "id": "df953d24",
   "metadata": {},
   "source": [
    "# 2. Feature engineering"
   ]
  },
  {
   "cell_type": "code",
   "execution_count": null,
   "id": "087dfe56",
   "metadata": {},
   "outputs": [
    {
     "data": {
      "text/plain": [
       "0      2020-01-02\n",
       "1      2020-01-03\n",
       "2      2020-01-06\n",
       "3      2020-01-07\n",
       "4      2020-01-08\n",
       "          ...    \n",
       "1312   2025-03-24\n",
       "1313   2025-03-25\n",
       "1314   2025-03-26\n",
       "1315   2025-03-27\n",
       "1316   2025-03-28\n",
       "Name: Date, Length: 1317, dtype: datetime64[ns]"
      ]
     },
     "execution_count": 8,
     "metadata": {},
     "output_type": "execute_result"
    }
   ],
   "source": [
    "df_aapl"
   ]
  },
  {
   "cell_type": "code",
   "execution_count": null,
   "id": "c6895fd5",
   "metadata": {},
   "outputs": [],
   "source": [
    "df_aapl_prep = add_test_indicator(df_aapl, n_days=7)"
   ]
  },
  {
   "cell_type": "code",
   "execution_count": null,
   "id": "5737b922",
   "metadata": {},
   "outputs": [],
   "source": []
  },
  {
   "cell_type": "code",
   "execution_count": null,
   "id": "af18314a",
   "metadata": {},
   "outputs": [],
   "source": []
  }
 ],
 "metadata": {
  "kernelspec": {
   "display_name": ".venv",
   "language": "python",
   "name": "python3"
  },
  "language_info": {
   "codemirror_mode": {
    "name": "ipython",
    "version": 3
   },
   "file_extension": ".py",
   "mimetype": "text/x-python",
   "name": "python",
   "nbconvert_exporter": "python",
   "pygments_lexer": "ipython3",
   "version": "3.13.2"
  }
 },
 "nbformat": 4,
 "nbformat_minor": 5
}
